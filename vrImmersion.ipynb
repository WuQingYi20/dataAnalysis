{
 "cells": [
  {
   "attachments": {},
   "cell_type": "markdown",
   "metadata": {},
   "source": [
    "# VR Immersion Analysis\n",
    "\n",
    "## Introduction\n",
    "\n",
    "In this project, we aim to answer the following research question:\n",
    "\n",
    "*What combination of hardware and software characteristics leads to the highest level of immersion in virtual reality systems?*\n",
    "\n",
    "Our hypothesis is that specific combinations of hardware and software characteristics will result in higher levels of immersion in virtual reality systems. To test this hypothesis, we will clean and analyze the provided dataset using Python and various data analysis libraries."
   ]
  },
  {
   "cell_type": "code",
   "execution_count": 1,
   "metadata": {},
   "outputs": [],
   "source": [
    "import pandas as pd\n",
    "import numpy as np\n",
    "import seaborn as sns\n",
    "import matplotlib.pyplot as plt\n",
    "\n",
    "# Load the dataset\n",
    "data = pd.read_csv('vrImmersion.csv', sep = ';')"
   ]
  },
  {
   "cell_type": "code",
   "execution_count": 2,
   "metadata": {},
   "outputs": [
    {
     "name": "stdout",
     "output_type": "stream",
     "text": [
      "   headphones      width     height  fov  fps  stereopsis  antialiasing  \\\n",
      "0           1  1641.3370   911.8539   37   60           1             1   \n",
      "1           1  1282.1180   712.2877   39   55           1             1   \n",
      "2           1  1795.5310   997.5171   40   47           1             1   \n",
      "3           2   838.4885   465.8270   44   48           0             0   \n",
      "4           2  1924.7020  1069.2790   85   35           1             1   \n",
      "\n",
      "   textures  lightMode  saturation  ...  reflections  modelsDetail  dof  \\\n",
      "0         1          0   -0.450232  ...            1             0    0   \n",
      "1         1          1   -0.234574  ...            1             1    1   \n",
      "2         0          1   -0.551438  ...            1             0    0   \n",
      "3         1          0   -0.832656  ...            1             0    1   \n",
      "4         1          1   -0.376218  ...            1             0    0   \n",
      "\n",
      "   particles  locomotion  ambientSound  reverbZone  spatialSound  time  \\\n",
      "0          1           3             0           1             1  1196   \n",
      "1          1           1             1           1             0  1194   \n",
      "2          0           1             1           1             0  1196   \n",
      "3          0           3             0           0             0  1197   \n",
      "4          0           2             1           0             1   600   \n",
      "\n",
      "   totalImmersion  \n",
      "0              80  \n",
      "1              82  \n",
      "2              44  \n",
      "3              77  \n",
      "4              66  \n",
      "\n",
      "[5 rows x 24 columns]\n",
      "headphones        0\n",
      "width             0\n",
      "height            0\n",
      "fov               0\n",
      "fps               0\n",
      "stereopsis        0\n",
      "antialiasing      0\n",
      "textures          0\n",
      "lightMode         0\n",
      "saturation        0\n",
      "brightness        0\n",
      "contrast          0\n",
      "sharpness         0\n",
      "shadowStrength    0\n",
      "reflections       0\n",
      "modelsDetail      0\n",
      "dof               0\n",
      "particles         0\n",
      "locomotion        0\n",
      "ambientSound      0\n",
      "reverbZone        0\n",
      "spatialSound      0\n",
      "time              0\n",
      "totalImmersion    0\n",
      "dtype: int64\n"
     ]
    }
   ],
   "source": [
    "# Display the first few rows of the dataset\n",
    "print(data.head())\n",
    "\n",
    "# Check for missing values\n",
    "print(data.isna().sum())\n",
    "\n",
    "# Handle missing or abnormal values (if necessary)\n",
    "# For example, you can use data.dropna(), data.fillna() or other methods to handle missing values."
   ]
  },
  {
   "cell_type": "code",
   "execution_count": 4,
   "metadata": {},
   "outputs": [
    {
     "name": "stdout",
     "output_type": "stream",
     "text": [
      "       headphones        width       height         fov         fps  \\\n",
      "count  401.000000   401.000000   401.000000  401.000000  401.000000   \n",
      "mean     1.149626  1204.965531   669.425287   64.628429   37.264339   \n",
      "std      0.701823   574.094938   318.941619   20.599492   13.359077   \n",
      "min      0.000000   216.410400   120.228000   30.000000   15.000000   \n",
      "25%      1.000000   719.343100   399.635000   46.000000   25.000000   \n",
      "50%      1.000000  1198.628000   665.904200   64.000000   38.000000   \n",
      "75%      2.000000  1714.976000   952.764500   84.000000   49.000000   \n",
      "max      2.000000  2155.729000  1197.627000   99.000000   60.000000   \n",
      "\n",
      "       stereopsis  antialiasing    textures   lightMode  saturation  ...  \\\n",
      "count  401.000000    401.000000  401.000000  401.000000  401.000000  ...   \n",
      "mean     0.541147      0.483791    0.491272    0.521197   -0.019753  ...   \n",
      "std      0.498927      0.500361    0.500548    0.500175    0.552263  ...   \n",
      "min      0.000000      0.000000    0.000000    0.000000   -0.995295  ...   \n",
      "25%      0.000000      0.000000    0.000000    0.000000   -0.450232  ...   \n",
      "50%      1.000000      0.000000    0.000000    1.000000   -0.052209  ...   \n",
      "75%      1.000000      1.000000    1.000000    1.000000    0.431933  ...   \n",
      "max      1.000000      1.000000    1.000000    1.000000    0.971704  ...   \n",
      "\n",
      "       reflections  modelsDetail         dof   particles  locomotion  \\\n",
      "count   401.000000    401.000000  401.000000  401.000000       401.0   \n",
      "mean      0.523691      0.496259    0.506234    0.501247         2.0   \n",
      "std       0.500062      0.500611    0.500586    0.500623         0.7   \n",
      "min       0.000000      0.000000    0.000000    0.000000         1.0   \n",
      "25%       0.000000      0.000000    0.000000    0.000000         2.0   \n",
      "50%       1.000000      0.000000    1.000000    1.000000         2.0   \n",
      "75%       1.000000      1.000000    1.000000    1.000000         2.0   \n",
      "max       1.000000      1.000000    1.000000    1.000000         3.0   \n",
      "\n",
      "       ambientSound  reverbZone  spatialSound        time  totalImmersion  \n",
      "count    401.000000  401.000000    401.000000   401.00000      401.000000  \n",
      "mean       0.496259    0.478803      0.546135   796.78803       40.503741  \n",
      "std        0.500611    0.500175      0.498489   227.31074       18.790306  \n",
      "min        0.000000    0.000000      0.000000   268.00000        4.000000  \n",
      "25%        0.000000    0.000000      0.000000   635.00000       27.000000  \n",
      "50%        0.000000    0.000000      1.000000   784.00000       38.000000  \n",
      "75%        1.000000    1.000000      1.000000   967.00000       55.000000  \n",
      "max        1.000000    1.000000      1.000000  1197.00000       95.000000  \n",
      "\n",
      "[8 rows x 24 columns]\n",
      "Index(['headphones', 'width', 'height', 'fov', 'fps', 'stereopsis',\n",
      "       'antialiasing', 'textures', 'lightMode', 'saturation', 'brightness',\n",
      "       'contrast', 'sharpness', 'shadowStrength', 'reflections',\n",
      "       'modelsDetail', 'dof', 'particles', 'locomotion', 'ambientSound',\n",
      "       'reverbZone', 'spatialSound', 'time', 'totalImmersion'],\n",
      "      dtype='object')\n"
     ]
    },
    {
     "data": {
      "image/png": "[encoded data removed]",
      "text/plain": [
       "<Figure size 640x480 with 1 Axes>"
      ]
     },
     "metadata": {},
     "output_type": "display_data"
    }
   ],
   "source": [
    "# Obtain summary statistics\n",
    "print(data.describe())\n",
    "\n",
    "# print data columns\n",
    "print(data.columns)\n",
    "\n",
    "# Visualize the distribution of the dependent variable (totalImmersion)\n",
    "sns.histplot(data['totalImmersion'])\n",
    "plt.show()\n",
    "\n",
    "# Visualize relationships between features using scaptter plots, pair lots, etc.\n",
    "# For example, you can use sns.pairplot(data) to create a pair plot of all features."
   ]
  },
  {
   "cell_type": "code",
   "execution_count": 9,
   "metadata": {},
   "outputs": [
    {
     "name": "stdout",
     "output_type": "stream",
     "text": [
      "Mean: 40.50374064837905, Median: 38.0, Standard Deviation: 18.7903063033195\n"
     ]
    },
    {
     "data": {
      "image/png": "[encoded data removed]",
      "text/plain": [
       "<Figure size 640x480 with 1 Axes>"
      ]
     },
     "metadata": {},
     "output_type": "display_data"
    },
    {
     "name": "stdout",
     "output_type": "stream",
     "text": [
      "headphones        0.171522\n",
      "width             0.276031\n",
      "height            0.276031\n",
      "fov               0.000149\n",
      "fps               0.148997\n",
      "stereopsis        0.091117\n",
      "antialiasing     -0.027847\n",
      "textures          0.402895\n",
      "lightMode         0.083982\n",
      "saturation       -0.003105\n",
      "brightness       -0.056663\n",
      "contrast          0.125141\n",
      "sharpness         0.000658\n",
      "shadowStrength    0.082491\n",
      "reflections      -0.015375\n",
      "modelsDetail     -0.006178\n",
      "dof               0.065314\n",
      "particles         0.053617\n",
      "locomotion        0.274648\n",
      "ambientSound      0.018539\n",
      "reverbZone       -0.091696\n",
      "spatialSound     -0.002220\n",
      "time              0.284606\n",
      "totalImmersion    1.000000\n",
      "Name: totalImmersion, dtype: float64\n"
     ]
    },
    {
     "data": {
      "image/png": "[encoded data removed]",
      "text/plain": [
       "<Figure size 640x480 with 1 Axes>"
      ]
     },
     "metadata": {},
     "output_type": "display_data"
    }
   ],
   "source": [
    "#explore data further\n",
    "\n",
    "#descriptive statistics\n",
    "mean_totalImmersion = data['totalImmersion'].mean()\n",
    "median_totalImmersion = data['totalImmersion'].median()\n",
    "std_totalImmersion = data['totalImmersion'].std()\n",
    "\n",
    "print(f\"Mean: {mean_totalImmersion}, Median: {median_totalImmersion}, Standard Deviation: {std_totalImmersion}\")\n",
    "\n",
    "#boxplot\n",
    "sns.boxplot(x=data['totalImmersion'])\n",
    "plt.show()\n",
    "\n",
    "#correlation analysis\n",
    "correlations = data.corr()\n",
    "totalImmersion_corr = correlations['totalImmersion']\n",
    "print(totalImmersion_corr)\n",
    "\n",
    "#pairwise scatterplots\n",
    "# explore feature that has a strong correlation with 'totalImmersion'\n",
    "sns.scatterplot(x=data['totalImmersion'], y=data['textures'])\n",
    "plt.show()"
   ]
  },
  {
   "attachments": {},
   "cell_type": "markdown",
   "metadata": {},
   "source": [
    "## Interpretation of Analyses\n",
    "\n",
    "1. **Descriptive Statistics**: The mean (40.5), median (38.0), and standard deviation (18.79) of the 'totalImmersion' variable provide a general understanding of the central tendency and spread of the data. The mean and median are relatively close, indicating that the distribution is likely not heavily skewed.\n",
    "\n",
    "2. **Boxplot**: The boxplot shows that the interquartile range (IQR), which represents the middle 50% of the data, is between approximately 24 and 58. The slightly larger right part of the box indicates a somewhat longer tail on the right side (positive skew), meaning there are some higher 'totalImmersion' values that are farther from the median.\n",
    "\n",
    "3. **Correlation Analysis**: The correlation values show how strongly each feature is related to 'totalImmersion'. Some features with relatively higher correlation values are 'width' (0.276), 'height' (0.276), 'textures' (0.402), 'locomotion' (0.274), and 'time' (0.284). These features might be more relevant when analyzing or predicting 'totalImmersion'.\n",
    "\n",
    "4. **Pairwise Scatterplots**: The scatterplot between 'textures' and 'totalImmersion' shows that when 'textures' = 1, 'totalImmersion' tends to have higher values compared to when 'textures' = 0. This suggests a positive relationship between 'textures' and 'totalImmersion', which is supported by the correlation value of 0.402."
   ]
  },
  {
   "cell_type": "code",
   "execution_count": 12,
   "metadata": {},
   "outputs": [
    {
     "name": "stdout",
     "output_type": "stream",
     "text": [
      "                            OLS Regression Results                            \n",
      "==============================================================================\n",
      "Dep. Variable:         totalImmersion   R-squared:                       0.354\n",
      "Model:                            OLS   Adj. R-squared:                  0.346\n",
      "Method:                 Least Squares   F-statistic:                     43.34\n",
      "Date:                Wed, 31 May 2023   Prob (F-statistic):           1.38e-35\n",
      "Time:                        22:21:42   Log-Likelihood:                -1657.1\n",
      "No. Observations:                 401   AIC:                             3326.\n",
      "Df Residuals:                     395   BIC:                             3350.\n",
      "Df Model:                           5                                         \n",
      "Covariance Type:            nonrobust                                         \n",
      "==============================================================================\n",
      "                 coef    std err          t      P>|t|      [0.025      0.975]\n",
      "------------------------------------------------------------------------------\n",
      "const         -3.8382      3.768     -1.019      0.309     -11.245       3.569\n",
      "textures      13.8910      1.528      9.092      0.000      10.887      16.895\n",
      "time           0.0179      0.003      5.304      0.000       0.011       0.025\n",
      "locomotion     6.7204      1.089      6.172      0.000       4.580       8.861\n",
      "width      -4001.0169   2296.095     -1.743      0.082   -8515.112     513.078\n",
      "height      7201.8451   4132.971      1.743      0.082    -923.527    1.53e+04\n",
      "==============================================================================\n",
      "Omnibus:                        7.381   Durbin-Watson:                   1.498\n",
      "Prob(Omnibus):                  0.025   Jarque-Bera (JB):                7.338\n",
      "Skew:                           0.301   Prob(JB):                       0.0255\n",
      "Kurtosis:                       2.722   Cond. No.                     1.06e+07\n",
      "==============================================================================\n",
      "\n",
      "Notes:\n",
      "[1] Standard Errors assume that the covariance matrix of the errors is correctly specified.\n",
      "[2] The condition number is large, 1.06e+07. This might indicate that there are\n",
      "strong multicollinearity or other numerical problems.\n"
     ]
    }
   ],
   "source": [
    "import statsmodels.api as sm\n",
    "\n",
    "# Replace 'feature1', 'feature2', etc. with the names of the relevant features\n",
    "selected_features = ['textures', 'time', 'locomotion', 'width','height']\n",
    "X = data[selected_features]\n",
    "y = data['totalImmersion']\n",
    "\n",
    "# Add a constant to the predictor variables\n",
    "X = sm.add_constant(X)\n",
    "\n",
    "model = sm.OLS(y, X).fit()\n",
    "print(model.summary())"
   ]
  },
  {
   "attachments": {},
   "cell_type": "markdown",
   "metadata": {},
   "source": [
    "### Interpretation of Multiple Linear Regression Results\n",
    "\n",
    "The model explains 35.4% of the variance in the 'totalImmersion' variable, as indicated by the R-squared value of 0.354. The adjusted R-squared value, which accounts for the number of predictors in the model, is slightly lower at 0.346.\n",
    "\n",
    "The F-statistic is 43.34, with a very low probability (1.38e-35), which indicates that the model is statistically significant, and there is a relationship between the dependent variable 'totalImmersion' and the independent variables.\n",
    "\n",
    "The coefficients in the model can be interpreted as follows:\n",
    "\n",
    "- **const**: The constant term, or the expected value of 'totalImmersion' when all independent variables are zero, is -3.8382. However, the p-value for the constant term is 0.309, which indicates that this coefficient is not statistically significant at a 0.05 significance level.\n",
    "- **textures**: For each unit increase in 'textures', 'totalImmersion' increases by 13.8910, holding all other variables constant. The p-value (<0.001) indicates that this relationship is statistically significant.\n",
    "- **time**: For each unit increase in 'time', 'totalImmersion' increases by 0.0179, holding all other variables constant. The p-value (<0.001) indicates that this relationship is statistically significant.\n",
    "- **locomotion**: For each unit increase in 'locomotion', 'totalImmersion' increases by 6.7204, holding all other variables constant. The p-value (<0.001) indicates that this relationship is statistically significant.\n",
    "- **width**: For each unit increase in 'width', 'totalImmersion' decreases by 4001.0169, holding all other variables constant. The p-value (0.082) indicates that this relationship is not statistically significant at a 0.05 significance level.\n",
    "- **height**: For each unit increase in 'height', 'totalImmersion' increases by 7201.8451, holding all other variables constant. The p-value (0.082) indicates that this relationship is not statistically significant at a 0.05 significance level.\n",
    "\n",
    "Based on these results, 'textures', 'time', and 'locomotion' are significantly associated with 'totalImmersion', while 'width' and 'height' are not. This information can be used to refine the original research question and hypothesis."
   ]
  },
  {
   "attachments": {},
   "cell_type": "markdown",
   "metadata": {},
   "source": [
    "### Connecting Findings to the Original Research Question and Hypothesis\n",
    "\n",
    "1. Discuss the implications of the statistically significant relationships between 'totalImmersion' and 'textures', 'time', and 'locomotion'. How do these findings contribute to the understanding of the factors that influence total immersion in the context of the research?\n",
    "2. Revisit the original hypothesis and determine whether the results support or refute it. If needed, adjust the hypothesis based on the findings.\n",
    "3. Address the non-significant relationships between 'totalImmersion' and 'width' and 'height'. Consider revising the research question or hypothesis to focus on the significant relationships identified in the analysis.\n",
    "\n",
    "Finally, take note of the large condition number (1.06e+07) in the results, which indicates potential multicollinearity or other numerical problems. Explore the correlation between the independent variables further and consider addressing multicollinearity by removing or transforming variables as needed."
   ]
  },
  {
   "attachments": {},
   "cell_type": "markdown",
   "metadata": {},
   "source": [
    "### Overall Conclusion\n",
    "\n",
    "The multiple linear regression analysis revealed that 'textures', 'time', and 'locomotion' are significant predictors of 'totalImmersion'. These findings can help guide further research in understanding the factors influencing total immersion. However, the non-significant relationships with 'width' and 'height' suggest that these factors may not be crucial in determining total immersion.\n",
    "\n",
    "Additionally, the potential multicollinearity issue should be investigated and addressed to improve the model's reliability. Future research could also explore other factors and their interactions with the significant predictors to provide a more comprehensive understanding of the factors affecting total immersion."
   ]
  },
  {
   "attachments": {},
   "cell_type": "markdown",
   "metadata": {},
   "source": []
  }
 ],
 "metadata": {
  "kernelspec": {
   "display_name": "Python 3",
   "language": "python",
   "name": "python3"
  },
  "language_info": {
   "codemirror_mode": {
    "name": "ipython",
    "version": 3
   },
   "file_extension": ".py",
   "mimetype": "text/x-python",
   "name": "python",
   "nbconvert_exporter": "python",
   "pygments_lexer": "ipython3",
   "version": "3.11.3"
  },
  "orig_nbformat": 4
 },
 "nbformat": 4,
 "nbformat_minor": 2
}
