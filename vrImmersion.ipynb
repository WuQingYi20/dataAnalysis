{
 "cells": [
  {
   "attachments": {},
   "cell_type": "markdown",
   "metadata": {},
   "source": [
    "# VR Immersion Analysis\n",
    "\n",
    "## Introduction\n",
    "\n",
    "In this project, we aim to answer the following research question:\n",
    "\n",
    "*What combination of hardware and software characteristics leads to the highest level of immersion in virtual reality systems?*\n",
    "\n",
    "Our hypothesis is that specific combinations of hardware and software characteristics will result in higher levels of immersion in virtual reality systems. To test this hypothesis, we will clean and analyze the provided dataset using Python and various data analysis libraries."
   ]
  },
  {
   "cell_type": "code",
   "execution_count": 1,
   "metadata": {},
   "outputs": [],
   "source": [
    "import pandas as pd\n",
    "import numpy as np\n",
    "import seaborn as sns\n",
    "import matplotlib.pyplot as plt\n",
    "\n",
    "# Load the dataset\n",
    "data = pd.read_csv('vrImmersion.csv', sep = ';')"
   ]
  },
  {
   "cell_type": "code",
   "execution_count": 2,
   "metadata": {},
   "outputs": [
    {
     "name": "stdout",
     "output_type": "stream",
     "text": [
      "   headphones      width     height  fov  fps  stereopsis  antialiasing  \\\n",
      "0           1  1641.3370   911.8539   37   60           1             1   \n",
      "1           1  1282.1180   712.2877   39   55           1             1   \n",
      "2           1  1795.5310   997.5171   40   47           1             1   \n",
      "3           2   838.4885   465.8270   44   48           0             0   \n",
      "4           2  1924.7020  1069.2790   85   35           1             1   \n",
      "\n",
      "   textures  lightMode  saturation  ...  reflections  modelsDetail  dof  \\\n",
      "0         1          0   -0.450232  ...            1             0    0   \n",
      "1         1          1   -0.234574  ...            1             1    1   \n",
      "2         0          1   -0.551438  ...            1             0    0   \n",
      "3         1          0   -0.832656  ...            1             0    1   \n",
      "4         1          1   -0.376218  ...            1             0    0   \n",
      "\n",
      "   particles  locomotion  ambientSound  reverbZone  spatialSound  time  \\\n",
      "0          1           3             0           1             1  1196   \n",
      "1          1           1             1           1             0  1194   \n",
      "2          0           1             1           1             0  1196   \n",
      "3          0           3             0           0             0  1197   \n",
      "4          0           2             1           0             1   600   \n",
      "\n",
      "   totalImmersion  \n",
      "0              80  \n",
      "1              82  \n",
      "2              44  \n",
      "3              77  \n",
      "4              66  \n",
      "\n",
      "[5 rows x 24 columns]\n",
      "headphones        0\n",
      "width             0\n",
      "height            0\n",
      "fov               0\n",
      "fps               0\n",
      "stereopsis        0\n",
      "antialiasing      0\n",
      "textures          0\n",
      "lightMode         0\n",
      "saturation        0\n",
      "brightness        0\n",
      "contrast          0\n",
      "sharpness         0\n",
      "shadowStrength    0\n",
      "reflections       0\n",
      "modelsDetail      0\n",
      "dof               0\n",
      "particles         0\n",
      "locomotion        0\n",
      "ambientSound      0\n",
      "reverbZone        0\n",
      "spatialSound      0\n",
      "time              0\n",
      "totalImmersion    0\n",
      "dtype: int64\n"
     ]
    }
   ],
   "source": [
    "# Display the first few rows of the dataset\n",
    "print(data.head())\n",
    "\n",
    "# Check for missing values\n",
    "print(data.isna().sum())\n",
    "\n",
    "# Handle missing or abnormal values (if necessary)\n",
    "# For example, you can use data.dropna(), data.fillna() or other methods to handle missing values."
   ]
  },
  {
   "cell_type": "code",
   "execution_count": 4,
   "metadata": {},
   "outputs": [
    {
     "name": "stdout",
     "output_type": "stream",
     "text": [
      "       headphones        width       height         fov         fps  \\\n",
      "count  401.000000   401.000000   401.000000  401.000000  401.000000   \n",
      "mean     1.149626  1204.965531   669.425287   64.628429   37.264339   \n",
      "std      0.701823   574.094938   318.941619   20.599492   13.359077   \n",
      "min      0.000000   216.410400   120.228000   30.000000   15.000000   \n",
      "25%      1.000000   719.343100   399.635000   46.000000   25.000000   \n",
      "50%      1.000000  1198.628000   665.904200   64.000000   38.000000   \n",
      "75%      2.000000  1714.976000   952.764500   84.000000   49.000000   \n",
      "max      2.000000  2155.729000  1197.627000   99.000000   60.000000   \n",
      "\n",
      "       stereopsis  antialiasing    textures   lightMode  saturation  ...  \\\n",
      "count  401.000000    401.000000  401.000000  401.000000  401.000000  ...   \n",
      "mean     0.541147      0.483791    0.491272    0.521197   -0.019753  ...   \n",
      "std      0.498927      0.500361    0.500548    0.500175    0.552263  ...   \n",
      "min      0.000000      0.000000    0.000000    0.000000   -0.995295  ...   \n",
      "25%      0.000000      0.000000    0.000000    0.000000   -0.450232  ...   \n",
      "50%      1.000000      0.000000    0.000000    1.000000   -0.052209  ...   \n",
      "75%      1.000000      1.000000    1.000000    1.000000    0.431933  ...   \n",
      "max      1.000000      1.000000    1.000000    1.000000    0.971704  ...   \n",
      "\n",
      "       reflections  modelsDetail         dof   particles  locomotion  \\\n",
      "count   401.000000    401.000000  401.000000  401.000000       401.0   \n",
      "mean      0.523691      0.496259    0.506234    0.501247         2.0   \n",
      "std       0.500062      0.500611    0.500586    0.500623         0.7   \n",
      "min       0.000000      0.000000    0.000000    0.000000         1.0   \n",
      "25%       0.000000      0.000000    0.000000    0.000000         2.0   \n",
      "50%       1.000000      0.000000    1.000000    1.000000         2.0   \n",
      "75%       1.000000      1.000000    1.000000    1.000000         2.0   \n",
      "max       1.000000      1.000000    1.000000    1.000000         3.0   \n",
      "\n",
      "       ambientSound  reverbZone  spatialSound        time  totalImmersion  \n",
      "count    401.000000  401.000000    401.000000   401.00000      401.000000  \n",
      "mean       0.496259    0.478803      0.546135   796.78803       40.503741  \n",
      "std        0.500611    0.500175      0.498489   227.31074       18.790306  \n",
      "min        0.000000    0.000000      0.000000   268.00000        4.000000  \n",
      "25%        0.000000    0.000000      0.000000   635.00000       27.000000  \n",
      "50%        0.000000    0.000000      1.000000   784.00000       38.000000  \n",
      "75%        1.000000    1.000000      1.000000   967.00000       55.000000  \n",
      "max        1.000000    1.000000      1.000000  1197.00000       95.000000  \n",
      "\n",
      "[8 rows x 24 columns]\n",
      "Index(['headphones', 'width', 'height', 'fov', 'fps', 'stereopsis',\n",
      "       'antialiasing', 'textures', 'lightMode', 'saturation', 'brightness',\n",
      "       'contrast', 'sharpness', 'shadowStrength', 'reflections',\n",
      "       'modelsDetail', 'dof', 'particles', 'locomotion', 'ambientSound',\n",
      "       'reverbZone', 'spatialSound', 'time', 'totalImmersion'],\n",
      "      dtype='object')\n"
     ]
    },
    {
     "data": {
      "image/png": "[encoded data removed]",
      "text/plain": [
       "<Figure size 640x480 with 1 Axes>"
      ]
     },
     "metadata": {},
     "output_type": "display_data"
    }
   ],
   "source": [
    "# Obtain summary statistics\n",
    "print(data.describe())\n",
    "\n",
    "# print data columns\n",
    "print(data.columns)\n",
    "\n",
    "# Visualize the distribution of the dependent variable (totalImmersion)\n",
    "sns.histplot(data['totalImmersion'])\n",
    "plt.show()\n",
    "\n",
    "# Visualize relationships between features using scaptter plots, pair lots, etc.\n",
    "# For example, you can use sns.pairplot(data) to create a pair plot of all features."
   ]
  },
  {
   "cell_type": "code",
   "execution_count": 5,
   "metadata": {},
   "outputs": [
    {
     "name": "stdout",
     "output_type": "stream",
     "text": [
      "Mean: 40.50374064837905, Median: 38.0, Standard Deviation: 18.7903063033195\n"
     ]
    }
   ],
   "source": [
    "#explore data further\n",
    "\n",
    "#descriptive statistics\n",
    "mean_totalImmersion = data['totalImmersion'].mean()\n",
    "median_totalImmersion = data['totalImmersion'].median()\n",
    "std_totalImmersion = data['totalImmersion'].std()\n",
    "\n",
    "print(f\"Mean: {mean_totalImmersion}, Median: {median_totalImmersion}, Standard Deviation: {std_totalImmersion}\")\n",
    "\n",
    "#boxplot\n"
   ]
  }
 ],
 "metadata": {
  "kernelspec": {
   "display_name": "Python 3",
   "language": "python",
   "name": "python3"
  },
  "language_info": {
   "codemirror_mode": {
    "name": "ipython",
    "version": 3
   },
   "file_extension": ".py",
   "mimetype": "text/x-python",
   "name": "python",
   "nbconvert_exporter": "python",
   "pygments_lexer": "ipython3",
   "version": "3.11.3"
  },
  "orig_nbformat": 4
 },
 "nbformat": 4,
 "nbformat_minor": 2
}
